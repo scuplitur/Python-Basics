{
 "cells": [
  {
   "cell_type": "code",
   "execution_count": 2,
   "metadata": {},
   "outputs": [],
   "source": [
    "doc1=\"Sugar is bad to consume. My sister likes to have sugar, but not my father.\"\n",
    "doc2=\"My father spends a lot of time driving my sister around to dance practice.\"\n",
    "doc3=\"Doctors suggest that driving may cause increased stress and blood pressure.\"\n",
    "doc4=\"Sometimes I feel pressure to perform well at school, but my father never seems to drive my sister to do better.\"\n",
    "doc5=\"Health experts say that sugar is not good for your lifestyle.\"\n",
    "\n",
    "doc_complete=[doc1, doc2, doc3, doc4, doc5]"
   ]
  },
  {
   "cell_type": "code",
   "execution_count": 3,
   "metadata": {},
   "outputs": [],
   "source": [
    "from nltk.corpus import stopwords\n",
    "from nltk.stem.wordnet import WordNetLemmatizer\n",
    "import string\n",
    "stop=set(stopwords.words('english'))\n",
    "exclude=set(string.punctuation)\n",
    "lemma=WordNetLemmatizer()\n",
    "\n",
    "def clean(doc):\n",
    "    stop_free=''.join([i for i in doc.lower().split() if i not in stop])\n",
    "    punc_free=''.join([ch for ch in stop_free if ch not in exclude])\n",
    "    normalized=''.join(lemma.lemmatize(word) for word in punc_free.split())\n",
    "    return normalized\n",
    "doc_clean=[clean(doc).split() for doc in doc_complete]"
   ]
  },
  {
   "cell_type": "code",
   "execution_count": 4,
   "metadata": {},
   "outputs": [],
   "source": [
    "import gensim\n",
    "from gensim import corpora\n",
    "dictionary=corpora.Dictionary(doc_clean)\n",
    "doc_term_matrix=[dictionary.doc2bow(doc) for doc in doc_clean]"
   ]
  },
  {
   "cell_type": "code",
   "execution_count": 5,
   "metadata": {},
   "outputs": [],
   "source": [
    "Lda=gensim.models.ldamodel.LdaModel\n",
    "ldamodel=Lda(doc_term_matrix, num_topics=3, id2word=dictionary, passes=50)"
   ]
  },
  {
   "cell_type": "code",
   "execution_count": 6,
   "metadata": {},
   "outputs": [
    {
     "name": "stdout",
     "output_type": "stream",
     "text": [
      "[(0, u'0.496*\"doctorssuggestdrivingmaycauseincreasedstressbloodpressure\" + 0.126*\"healthexpertssaysugargoodlifestyle\" + 0.126*\"sometimesfeelpressureperformwellschoolfatherneverseemsdrivesisterbetter\" + 0.126*\"fatherspendslottimedrivingsisterarounddancepractice\"'), (1, u'0.362*\"sometimesfeelpressureperformwellschoolfatherneverseemsdrivesisterbetter\" + 0.362*\"healthexpertssaysugargoodlifestyle\" + 0.092*\"fatherspendslottimedrivingsisterarounddancepractice\" + 0.092*\"sugarbadconsumesisterlikessugarfather\"'), (2, u'0.362*\"sugarbadconsumesisterlikessugarfather\" + 0.362*\"fatherspendslottimedrivingsisterarounddancepractice\" + 0.092*\"healthexpertssaysugargoodlifestyle\" + 0.092*\"sometimesfeelpressureperformwellschoolfatherneverseemsdrivesisterbetter\"')]\n"
     ]
    }
   ],
   "source": [
    "print(ldamodel.print_topics(num_topics=3, num_words=4))"
   ]
  },
  {
   "cell_type": "code",
   "execution_count": null,
   "metadata": {},
   "outputs": [],
   "source": []
  }
 ],
 "metadata": {
  "kernelspec": {
   "display_name": "Python 2",
   "language": "python",
   "name": "python2"
  },
  "language_info": {
   "codemirror_mode": {
    "name": "ipython",
    "version": 2
   },
   "file_extension": ".py",
   "mimetype": "text/x-python",
   "name": "python",
   "nbconvert_exporter": "python",
   "pygments_lexer": "ipython2",
   "version": "2.7.14"
  }
 },
 "nbformat": 4,
 "nbformat_minor": 2
}
