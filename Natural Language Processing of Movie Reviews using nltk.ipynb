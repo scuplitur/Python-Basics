{
 "cells": [
  {
   "cell_type": "markdown",
   "metadata": {},
   "source": [
    "### Natural Language Processing with nltk\n",
    "\n",
    "nltk is the most popular Python package for Natural Language processing, it provides algorithms for importing, cleaning, pre-processing text data in human language and then apply computational linguistics algorithm like sentiment analysis."
   ]
  },
  {
   "cell_type": "markdown",
   "metadata": {},
   "source": [
    "### Inspect the Movie Reviews Dataset"
   ]
  },
  {
   "cell_type": "markdown",
   "metadata": {},
   "source": [
    "It also includes many easy-to-use datasets in the nltk.corpus package, we can download for example the movie_reviews package using the nltk.download function:"
   ]
  },
  {
   "cell_type": "code",
   "execution_count": 1,
   "metadata": {},
   "outputs": [],
   "source": [
    "import nltk"
   ]
  },
  {
   "cell_type": "code",
   "execution_count": 2,
   "metadata": {},
   "outputs": [
    {
     "name": "stdout",
     "output_type": "stream",
     "text": [
      "[nltk_data] Downloading package movie_reviews to\n",
      "[nltk_data]     /Users/jingchen/nltk_data...\n",
      "[nltk_data]   Package movie_reviews is already up-to-date!\n"
     ]
    },
    {
     "data": {
      "text/plain": [
       "True"
      ]
     },
     "execution_count": 2,
     "metadata": {},
     "output_type": "execute_result"
    }
   ],
   "source": [
    "nltk.download(\"movie_reviews\")"
   ]
  },
  {
   "cell_type": "markdown",
   "metadata": {},
   "source": [
    "You can also list and download other datasets interactively just typing: \n",
    "nltk.download()\n",
    "\n",
    "in the jupyter notebook. Once the data have been downloaded, we can import them from nttk.corpus"
   ]
  },
  {
   "cell_type": "code",
   "execution_count": 3,
   "metadata": {},
   "outputs": [],
   "source": [
    "from nltk.corpus import movie_reviews"
   ]
  },
  {
   "cell_type": "markdown",
   "metadata": {},
   "source": [
    "The fileeids method provided by all the datasets in nltk.corpus gives access to a list of all the files available.\n",
    "In particular in the movie_reviews datasets we have 2000 text files, each of them is a review of a movie, and they are already split in a neg folder for the negative reviews and a pos folder for the positive reviews:"
   ]
  },
  {
   "cell_type": "code",
   "execution_count": 4,
   "metadata": {},
   "outputs": [
    {
     "data": {
      "text/plain": [
       "2000"
      ]
     },
     "execution_count": 4,
     "metadata": {},
     "output_type": "execute_result"
    }
   ],
   "source": [
    "len(movie_reviews.fileids())"
   ]
  },
  {
   "cell_type": "code",
   "execution_count": 5,
   "metadata": {},
   "outputs": [
    {
     "data": {
      "text/plain": [
       "[u'neg/cv000_29416.txt',\n",
       " u'neg/cv001_19502.txt',\n",
       " u'neg/cv002_17424.txt',\n",
       " u'neg/cv003_12683.txt',\n",
       " u'neg/cv004_12641.txt']"
      ]
     },
     "execution_count": 5,
     "metadata": {},
     "output_type": "execute_result"
    }
   ],
   "source": [
    "movie_reviews.fileids()[:5]"
   ]
  },
  {
   "cell_type": "code",
   "execution_count": 6,
   "metadata": {},
   "outputs": [
    {
     "data": {
      "text/plain": [
       "[u'pos/cv995_21821.txt',\n",
       " u'pos/cv996_11592.txt',\n",
       " u'pos/cv997_5046.txt',\n",
       " u'pos/cv998_14111.txt',\n",
       " u'pos/cv999_13106.txt']"
      ]
     },
     "execution_count": 6,
     "metadata": {},
     "output_type": "execute_result"
    }
   ],
   "source": [
    "movie_reviews.fileids()[-5:]"
   ]
  },
  {
   "cell_type": "markdown",
   "metadata": {},
   "source": [
    "fileids can also fliter the availabe files on their category, which is the name of the subfolders they are located in. Therefore we can have lists of positive and negative reviews separately."
   ]
  },
  {
   "cell_type": "code",
   "execution_count": 7,
   "metadata": {},
   "outputs": [],
   "source": [
    "negative_fileids=movie_reviews.fileids('neg')\n",
    "positive_fileids=movie_reviews.fileids('pos')"
   ]
  },
  {
   "cell_type": "code",
   "execution_count": 8,
   "metadata": {},
   "outputs": [
    {
     "data": {
      "text/plain": [
       "(1000, 1000)"
      ]
     },
     "execution_count": 8,
     "metadata": {},
     "output_type": "execute_result"
    }
   ],
   "source": [
    "len(negative_fileids), len(positive_fileids)"
   ]
  },
  {
   "cell_type": "markdown",
   "metadata": {},
   "source": [
    "We can inspect one of the reviews using the raw method of movie_reviews, each files is split into sentences, the curators of this dataset also removed from each review from any direct mention of the rating of the movie."
   ]
  },
  {
   "cell_type": "code",
   "execution_count": 9,
   "metadata": {},
   "outputs": [
    {
     "name": "stdout",
     "output_type": "stream",
     "text": [
      "films adapted from comic books have had plenty of success , whether they're about superheroes ( batman , superman , spawn ) , or geared toward kids ( casper ) or the arthouse crowd ( ghost world ) , but there's never really been a comic book like from hell before . \n",
      "for starters , it was created by alan moore ( and eddie campbell ) , who brought the medium to a whole new level in the mid '80s with a 12-part series called the watchmen . \n",
      "to say moore and campbell thoroughly researched the subject of jack the ripper would be like saying michael jackson is starting to look a little odd . \n",
      "the book ( or \" graphic novel , \" if you will ) is over 500 pages long and includes nearly 30 more that consist of nothing but footnotes . \n",
      "in other words , don't dismiss this film because of its source . \n",
      "if you can get past the whole comic book thing , you might find another stumbling block in from hell's directors , albert and allen hughes . \n",
      "getting the hughes brothers to direct this seems almost as ludicrous as casting carrot top in , well , anything , but riddle me this : who better to direct a film that's set in the ghetto and features really violent street crime than the mad geniuses behind menace ii society ? \n",
      "the ghetto in question is , of course , whitechapel in 1888 london's east end . \n",
      "it's a filthy , sooty place where the whores ( called \" unfortunates \" ) are starting to get a little nervous about this mysterious psychopath who has been carving through their profession with surgical precision . \n",
      "when the first stiff turns up , copper peter godley ( robbie coltrane , the world is not enough ) calls in inspector frederick abberline ( johnny depp , blow ) to crack the case . \n",
      "abberline , a widower , has prophetic dreams he unsuccessfully tries to quell with copious amounts of absinthe and opium . \n",
      "upon arriving in whitechapel , he befriends an unfortunate named mary kelly ( heather graham , say it isn't so ) and proceeds to investigate the horribly gruesome crimes that even the police surgeon can't stomach . \n",
      "i don't think anyone needs to be briefed on jack the ripper , so i won't go into the particulars here , other than to say moore and campbell have a unique and interesting theory about both the identity of the killer and the reasons he chooses to slay . \n",
      "in the comic , they don't bother cloaking the identity of the ripper , but screenwriters terry hayes ( vertical limit ) and rafael yglesias ( les mis ? rables ) do a good job of keeping him hidden from viewers until the very end . \n",
      "it's funny to watch the locals blindly point the finger of blame at jews and indians because , after all , an englishman could never be capable of committing such ghastly acts . \n",
      "and from hell's ending had me whistling the stonecutters song from the simpsons for days ( \" who holds back the electric car/who made steve guttenberg a star ? \" ) . \n",
      "don't worry - it'll all make sense when you see it . \n",
      "now onto from hell's appearance : it's certainly dark and bleak enough , and it's surprising to see how much more it looks like a tim burton film than planet of the apes did ( at times , it seems like sleepy hollow 2 ) . \n",
      "the print i saw wasn't completely finished ( both color and music had not been finalized , so no comments about marilyn manson ) , but cinematographer peter deming ( don't say a word ) ably captures the dreariness of victorian-era london and helped make the flashy killing scenes remind me of the crazy flashbacks in twin peaks , even though the violence in the film pales in comparison to that in the black-and-white comic . \n",
      "oscar winner martin childs' ( shakespeare in love ) production design turns the original prague surroundings into one creepy place . \n",
      "even the acting in from hell is solid , with the dreamy depp turning in a typically strong performance and deftly handling a british accent . \n",
      "ians holm ( joe gould's secret ) and richardson ( 102 dalmatians ) log in great supporting roles , but the big surprise here is graham . \n",
      "i cringed the first time she opened her mouth , imagining her attempt at an irish accent , but it actually wasn't half bad . \n",
      "the film , however , is all good . \n",
      "2 : 00 - r for strong violence/gore , sexuality , language and drug content \n",
      "\n"
     ]
    }
   ],
   "source": [
    "print(movie_reviews.raw(fileids=positive_fileids[0]))"
   ]
  },
  {
   "cell_type": "markdown",
   "metadata": {},
   "source": [
    "### Tokenize Text in Words"
   ]
  },
  {
   "cell_type": "code",
   "execution_count": 10,
   "metadata": {},
   "outputs": [],
   "source": [
    "romeo_text=\"\"\"Why then, O brawling love! O loving hate! \n",
    "O any thing, of nothing first create!\n",
    "O heavy lightness, serious vanity,\n",
    "Misshapen chaos of well-seeming forms,\n",
    "Feather of lead, brigh smoke, cold fire, sick health,\n",
    "Still-waking sleep, that is not what it is!\n",
    "This love feel I, that feel no love in this.\"\"\""
   ]
  },
  {
   "cell_type": "markdown",
   "metadata": {},
   "source": [
    "The first step in Natural Language processing is generally to split the text into words, this process might appear simple but it is very tedious to handle all corner cases, see for example all the issues with punctuation we have to solve if we just start with a split on whitespaces:"
   ]
  },
  {
   "cell_type": "code",
   "execution_count": 11,
   "metadata": {},
   "outputs": [
    {
     "data": {
      "text/plain": [
       "['Why',\n",
       " 'then,',\n",
       " 'O',\n",
       " 'brawling',\n",
       " 'love!',\n",
       " 'O',\n",
       " 'loving',\n",
       " 'hate!',\n",
       " 'O',\n",
       " 'any',\n",
       " 'thing,',\n",
       " 'of',\n",
       " 'nothing',\n",
       " 'first',\n",
       " 'create!',\n",
       " 'O',\n",
       " 'heavy',\n",
       " 'lightness,',\n",
       " 'serious',\n",
       " 'vanity,',\n",
       " 'Misshapen',\n",
       " 'chaos',\n",
       " 'of',\n",
       " 'well-seeming',\n",
       " 'forms,',\n",
       " 'Feather',\n",
       " 'of',\n",
       " 'lead,',\n",
       " 'brigh',\n",
       " 'smoke,',\n",
       " 'cold',\n",
       " 'fire,',\n",
       " 'sick',\n",
       " 'health,',\n",
       " 'Still-waking',\n",
       " 'sleep,',\n",
       " 'that',\n",
       " 'is',\n",
       " 'not',\n",
       " 'what',\n",
       " 'it',\n",
       " 'is!',\n",
       " 'This',\n",
       " 'love',\n",
       " 'feel',\n",
       " 'I,',\n",
       " 'that',\n",
       " 'feel',\n",
       " 'no',\n",
       " 'love',\n",
       " 'in',\n",
       " 'this.']"
      ]
     },
     "execution_count": 11,
     "metadata": {},
     "output_type": "execute_result"
    }
   ],
   "source": [
    "romeo_text.split()"
   ]
  },
  {
   "cell_type": "markdown",
   "metadata": {},
   "source": [
    "nltk has a sophisticated word tokenizer trained on English named punkt, we first have to download its parameters:"
   ]
  },
  {
   "cell_type": "code",
   "execution_count": 12,
   "metadata": {},
   "outputs": [
    {
     "name": "stdout",
     "output_type": "stream",
     "text": [
      "[nltk_data] Downloading package punkt to /Users/jingchen/nltk_data...\n",
      "[nltk_data]   Package punkt is already up-to-date!\n"
     ]
    },
    {
     "data": {
      "text/plain": [
       "True"
      ]
     },
     "execution_count": 12,
     "metadata": {},
     "output_type": "execute_result"
    }
   ],
   "source": [
    "nltk.download(\"punkt\")"
   ]
  },
  {
   "cell_type": "markdown",
   "metadata": {},
   "source": [
    "then we can use the word_tokenize function to properly tokenize this text, compare to the whitespace splitting we used above:"
   ]
  },
  {
   "cell_type": "code",
   "execution_count": 14,
   "metadata": {},
   "outputs": [],
   "source": [
    "romeo_words=nltk.word_tokenize(romeo_text)"
   ]
  },
  {
   "cell_type": "code",
   "execution_count": 15,
   "metadata": {},
   "outputs": [
    {
     "data": {
      "text/plain": [
       "['Why',\n",
       " 'then',\n",
       " ',',\n",
       " 'O',\n",
       " 'brawling',\n",
       " 'love',\n",
       " '!',\n",
       " 'O',\n",
       " 'loving',\n",
       " 'hate',\n",
       " '!',\n",
       " 'O',\n",
       " 'any',\n",
       " 'thing',\n",
       " ',',\n",
       " 'of',\n",
       " 'nothing',\n",
       " 'first',\n",
       " 'create',\n",
       " '!',\n",
       " 'O',\n",
       " 'heavy',\n",
       " 'lightness',\n",
       " ',',\n",
       " 'serious',\n",
       " 'vanity',\n",
       " ',',\n",
       " 'Misshapen',\n",
       " 'chaos',\n",
       " 'of',\n",
       " 'well-seeming',\n",
       " 'forms',\n",
       " ',',\n",
       " 'Feather',\n",
       " 'of',\n",
       " 'lead',\n",
       " ',',\n",
       " 'brigh',\n",
       " 'smoke',\n",
       " ',',\n",
       " 'cold',\n",
       " 'fire',\n",
       " ',',\n",
       " 'sick',\n",
       " 'health',\n",
       " ',',\n",
       " 'Still-waking',\n",
       " 'sleep',\n",
       " ',',\n",
       " 'that',\n",
       " 'is',\n",
       " 'not',\n",
       " 'what',\n",
       " 'it',\n",
       " 'is',\n",
       " '!',\n",
       " 'This',\n",
       " 'love',\n",
       " 'feel',\n",
       " 'I',\n",
       " ',',\n",
       " 'that',\n",
       " 'feel',\n",
       " 'no',\n",
       " 'love',\n",
       " 'in',\n",
       " 'this',\n",
       " '.']"
      ]
     },
     "execution_count": 15,
     "metadata": {},
     "output_type": "execute_result"
    }
   ],
   "source": [
    "romeo_words"
   ]
  },
  {
   "cell_type": "markdown",
   "metadata": {},
   "source": [
    "Good news is that the movie_reviews corpus already has direct access to tokenized text with the words method"
   ]
  },
  {
   "cell_type": "code",
   "execution_count": 17,
   "metadata": {},
   "outputs": [
    {
     "data": {
      "text/plain": [
       "[u'films', u'adapted', u'from', u'comic', u'books', ...]"
      ]
     },
     "execution_count": 17,
     "metadata": {},
     "output_type": "execute_result"
    }
   ],
   "source": [
    "movie_reviews.words(fileids=positive_fileids[0])"
   ]
  },
  {
   "cell_type": "markdown",
   "metadata": {},
   "source": [
    "### Build a bag-of-words model"
   ]
  },
  {
   "cell_type": "markdown",
   "metadata": {},
   "source": [
    "The simplest model for analyzing text is just to think about text as an unordered collection of words (bag-of-words). This can generally allow to infer from the text, the category, the topic, or the sentiment.\n",
    "\n",
    "From the bag-of-words model we can build features to be used by a classifier, here we assume that each word is a feature that can either be true of false. We implement this in Python as a dictionary where each word in a sentence we associate true, if a word is missing, that would be the same as assigning false."
   ]
  },
  {
   "cell_type": "code",
   "execution_count": 18,
   "metadata": {},
   "outputs": [
    {
     "data": {
      "text/plain": [
       "{'!': True,\n",
       " ',': True,\n",
       " '.': True,\n",
       " 'Feather': True,\n",
       " 'I': True,\n",
       " 'Misshapen': True,\n",
       " 'O': True,\n",
       " 'Still-waking': True,\n",
       " 'This': True,\n",
       " 'Why': True,\n",
       " 'any': True,\n",
       " 'brawling': True,\n",
       " 'brigh': True,\n",
       " 'chaos': True,\n",
       " 'cold': True,\n",
       " 'create': True,\n",
       " 'feel': True,\n",
       " 'fire': True,\n",
       " 'first': True,\n",
       " 'forms': True,\n",
       " 'hate': True,\n",
       " 'health': True,\n",
       " 'heavy': True,\n",
       " 'in': True,\n",
       " 'is': True,\n",
       " 'it': True,\n",
       " 'lead': True,\n",
       " 'lightness': True,\n",
       " 'love': True,\n",
       " 'loving': True,\n",
       " 'no': True,\n",
       " 'not': True,\n",
       " 'nothing': True,\n",
       " 'of': True,\n",
       " 'serious': True,\n",
       " 'sick': True,\n",
       " 'sleep': True,\n",
       " 'smoke': True,\n",
       " 'that': True,\n",
       " 'then': True,\n",
       " 'thing': True,\n",
       " 'this': True,\n",
       " 'vanity': True,\n",
       " 'well-seeming': True,\n",
       " 'what': True}"
      ]
     },
     "execution_count": 18,
     "metadata": {},
     "output_type": "execute_result"
    }
   ],
   "source": [
    "{word: True for word in romeo_words}"
   ]
  },
  {
   "cell_type": "code",
   "execution_count": 19,
   "metadata": {},
   "outputs": [
    {
     "data": {
      "text/plain": [
       "dict"
      ]
     },
     "execution_count": 19,
     "metadata": {},
     "output_type": "execute_result"
    }
   ],
   "source": [
    "type(_)"
   ]
  },
  {
   "cell_type": "code",
   "execution_count": 20,
   "metadata": {},
   "outputs": [],
   "source": [
    "def build_bag_of_words_features(words):\n",
    "    return{word: True for word in words}"
   ]
  },
  {
   "cell_type": "code",
   "execution_count": 21,
   "metadata": {},
   "outputs": [
    {
     "data": {
      "text/plain": [
       "{'!': True,\n",
       " ',': True,\n",
       " '.': True,\n",
       " 'Feather': True,\n",
       " 'I': True,\n",
       " 'Misshapen': True,\n",
       " 'O': True,\n",
       " 'Still-waking': True,\n",
       " 'This': True,\n",
       " 'Why': True,\n",
       " 'any': True,\n",
       " 'brawling': True,\n",
       " 'brigh': True,\n",
       " 'chaos': True,\n",
       " 'cold': True,\n",
       " 'create': True,\n",
       " 'feel': True,\n",
       " 'fire': True,\n",
       " 'first': True,\n",
       " 'forms': True,\n",
       " 'hate': True,\n",
       " 'health': True,\n",
       " 'heavy': True,\n",
       " 'in': True,\n",
       " 'is': True,\n",
       " 'it': True,\n",
       " 'lead': True,\n",
       " 'lightness': True,\n",
       " 'love': True,\n",
       " 'loving': True,\n",
       " 'no': True,\n",
       " 'not': True,\n",
       " 'nothing': True,\n",
       " 'of': True,\n",
       " 'serious': True,\n",
       " 'sick': True,\n",
       " 'sleep': True,\n",
       " 'smoke': True,\n",
       " 'that': True,\n",
       " 'then': True,\n",
       " 'thing': True,\n",
       " 'this': True,\n",
       " 'vanity': True,\n",
       " 'well-seeming': True,\n",
       " 'what': True}"
      ]
     },
     "execution_count": 21,
     "metadata": {},
     "output_type": "execute_result"
    }
   ],
   "source": [
    "build_bag_of_words_features(romeo_words)"
   ]
  },
  {
   "cell_type": "markdown",
   "metadata": {},
   "source": [
    "This is what we wanted, but we notice that also punctuation like \"!\" and words useless for classification purposes like \"of\" or \"that\" are also included. Those words are named \"stopwords\" and nltk has a convenient corpus we can download."
   ]
  },
  {
   "cell_type": "code",
   "execution_count": 22,
   "metadata": {},
   "outputs": [
    {
     "name": "stdout",
     "output_type": "stream",
     "text": [
      "[nltk_data] Downloading package stopwords to\n",
      "[nltk_data]     /Users/jingchen/nltk_data...\n",
      "[nltk_data]   Unzipping corpora/stopwords.zip.\n"
     ]
    },
    {
     "data": {
      "text/plain": [
       "True"
      ]
     },
     "execution_count": 22,
     "metadata": {},
     "output_type": "execute_result"
    }
   ],
   "source": [
    "nltk.download(\"stopwords\")"
   ]
  },
  {
   "cell_type": "code",
   "execution_count": 23,
   "metadata": {},
   "outputs": [],
   "source": [
    "import string"
   ]
  },
  {
   "cell_type": "code",
   "execution_count": 24,
   "metadata": {},
   "outputs": [
    {
     "data": {
      "text/plain": [
       "'!\"#$%&\\'()*+,-./:;<=>?@[\\\\]^_`{|}~'"
      ]
     },
     "execution_count": 24,
     "metadata": {},
     "output_type": "execute_result"
    }
   ],
   "source": [
    "string.punctuation"
   ]
  },
  {
   "cell_type": "markdown",
   "metadata": {},
   "source": [
    "Using the Python string.punctuation list and the English stopwords we cn build better features by filtering out those words that would not help in the classification: "
   ]
  },
  {
   "cell_type": "code",
   "execution_count": 26,
   "metadata": {},
   "outputs": [],
   "source": [
    "useless_words=nltk.corpus.stopwords.words(\"english\")+list(string.punctuation)\n",
    "#useless_words\n",
    "#type(useless_words)"
   ]
  },
  {
   "cell_type": "code",
   "execution_count": 27,
   "metadata": {},
   "outputs": [],
   "source": [
    "def build_bag_of_words_features_filtered(words):\n",
    "    return {\n",
    "        word: 1 for word in words\\\n",
    "        if not word in useless_words}"
   ]
  },
  {
   "cell_type": "code",
   "execution_count": 28,
   "metadata": {},
   "outputs": [
    {
     "data": {
      "text/plain": [
       "{'Feather': 1,\n",
       " 'I': 1,\n",
       " 'Misshapen': 1,\n",
       " 'O': 1,\n",
       " 'Still-waking': 1,\n",
       " 'This': 1,\n",
       " 'Why': 1,\n",
       " 'brawling': 1,\n",
       " 'brigh': 1,\n",
       " 'chaos': 1,\n",
       " 'cold': 1,\n",
       " 'create': 1,\n",
       " 'feel': 1,\n",
       " 'fire': 1,\n",
       " 'first': 1,\n",
       " 'forms': 1,\n",
       " 'hate': 1,\n",
       " 'health': 1,\n",
       " 'heavy': 1,\n",
       " 'lead': 1,\n",
       " 'lightness': 1,\n",
       " 'love': 1,\n",
       " 'loving': 1,\n",
       " 'nothing': 1,\n",
       " 'serious': 1,\n",
       " 'sick': 1,\n",
       " 'sleep': 1,\n",
       " 'smoke': 1,\n",
       " 'thing': 1,\n",
       " 'vanity': 1,\n",
       " 'well-seeming': 1}"
      ]
     },
     "execution_count": 28,
     "metadata": {},
     "output_type": "execute_result"
    }
   ],
   "source": [
    "build_bag_of_words_features_filtered(romeo_words)"
   ]
  },
  {
   "cell_type": "markdown",
   "metadata": {},
   "source": [
    "### Plotting Frequencies of Words"
   ]
  },
  {
   "cell_type": "markdown",
   "metadata": {},
   "source": [
    "It is common to explore a database before starting the analysis, in this section we will find the most common words and plot their frequency.\n",
    "\n",
    "Using the .word() function with no argument we can extract the words from the entire dataset and check that it is about 1.6 millions."
   ]
  },
  {
   "cell_type": "code",
   "execution_count": 30,
   "metadata": {},
   "outputs": [],
   "source": [
    "all_words=movie_reviews.words()"
   ]
  },
  {
   "cell_type": "markdown",
   "metadata": {},
   "source": [
    "First we want to fliter out useless_words as defined in the previous section, this will reduce the length of the dataset by more than a factor of 2:"
   ]
  },
  {
   "cell_type": "code",
   "execution_count": 31,
   "metadata": {},
   "outputs": [
    {
     "data": {
      "text/plain": [
       "list"
      ]
     },
     "execution_count": 31,
     "metadata": {},
     "output_type": "execute_result"
    }
   ],
   "source": [
    "filtered_words=[word for word in movie_reviews.words() if not word in useless_words]\n",
    "type(filtered_words)"
   ]
  },
  {
   "cell_type": "code",
   "execution_count": 32,
   "metadata": {},
   "outputs": [
    {
     "data": {
      "text/plain": [
       "0.710579"
      ]
     },
     "execution_count": 32,
     "metadata": {},
     "output_type": "execute_result"
    }
   ],
   "source": [
    "len(filtered_words)/1e6"
   ]
  },
  {
   "cell_type": "markdown",
   "metadata": {},
   "source": [
    "The collection package of the standard library contains a Counter class that is handy for counting frequencies of words in our list:"
   ]
  },
  {
   "cell_type": "code",
   "execution_count": 35,
   "metadata": {},
   "outputs": [],
   "source": [
    "from collections import Counter\n",
    "word_counter=Counter(filtered_words)"
   ]
  },
  {
   "cell_type": "markdown",
   "metadata": {},
   "source": [
    "It also has most_common() method to access the words with the higher count:"
   ]
  },
  {
   "cell_type": "code",
   "execution_count": 36,
   "metadata": {},
   "outputs": [],
   "source": [
    "most_common_words=word_counter.most_common()[:10]"
   ]
  },
  {
   "cell_type": "code",
   "execution_count": 37,
   "metadata": {},
   "outputs": [
    {
     "data": {
      "text/plain": [
       "[(u'film', 9517),\n",
       " (u'one', 5852),\n",
       " (u'movie', 5771),\n",
       " (u'like', 3690),\n",
       " (u'even', 2565),\n",
       " (u'time', 2411),\n",
       " (u'good', 2411),\n",
       " (u'story', 2169),\n",
       " (u'would', 2109),\n",
       " (u'much', 2049)]"
      ]
     },
     "execution_count": 37,
     "metadata": {},
     "output_type": "execute_result"
    }
   ],
   "source": [
    "most_common_words"
   ]
  },
  {
   "cell_type": "markdown",
   "metadata": {},
   "source": [
    "Then we would like to have a visualization of this using matplotlib.\n",
    "First we want to use the Jupyter magic function \n",
    "\n",
    "%matplotlib inline\n",
    "\n",
    "to setup the Notebook to show the plot embedded into the Jupyter Notebook page, you can also test:\n",
    "\n",
    "%matplotlib notebook\n",
    "\n",
    "for a more interactive plotting interface which however is not as well supported on all platforms and browsers."
   ]
  },
  {
   "cell_type": "code",
   "execution_count": 38,
   "metadata": {},
   "outputs": [],
   "source": [
    "%matplotlib inline\n",
    "import matplotlib.pyplot as plt"
   ]
  },
  {
   "cell_type": "markdown",
   "metadata": {},
   "source": [
    "We can sort the word counts and plot their values on Logarithmic axes to check the shape of the distribution. This visualization is particularly useful if comparing 2 or more datasets, a flatter distribution indicates a large vocabulary while a peaked distribution a restricted vocabulary often due to a focused topic or specialized language."
   ]
  },
  {
   "cell_type": "code",
   "execution_count": 39,
   "metadata": {},
   "outputs": [
    {
     "data": {
      "text/plain": [
       "Text(0.5,0,u'Word Rank')"
      ]
     },
     "execution_count": 39,
     "metadata": {},
     "output_type": "execute_result"
    },
    {
     "data": {
      "image/png": "[encoded data removed]",
      "text/plain": [
       "<matplotlib.figure.Figure at 0x1a1e30d5d0>"
      ]
     },
     "metadata": {},
     "output_type": "display_data"
    }
   ],
   "source": [
    "sorted_word_counts=sorted(list(word_counter.values()), reverse=True)\n",
    "\n",
    "plt.loglog(sorted_word_counts)\n",
    "plt.ylabel(\"Freq\")\n",
    "plt.xlabel(\"Word Rank\")"
   ]
  },
  {
   "cell_type": "markdown",
   "metadata": {},
   "source": [
    "Another related plot is the histogram of sorted_word_counts, which displays how many words have a count in a specific range.\n",
    "\n",
    "Of course the distribution is highly peaked at low counts, i.e. most of the words appear which a low count, so we better display it on semilogarithmic axes to inspect the tail of the distribution."
   ]
  },
  {
   "cell_type": "code",
   "execution_count": 40,
   "metadata": {},
   "outputs": [
    {
     "data": {
      "image/png": "[encoded data removed]",
      "text/plain": [
       "<matplotlib.figure.Figure at 0x1a1eca8290>"
      ]
     },
     "metadata": {},
     "output_type": "display_data"
    }
   ],
   "source": [
    "plt.hist(sorted_word_counts,bins=50);"
   ]
  },
  {
   "cell_type": "code",
   "execution_count": 41,
   "metadata": {},
   "outputs": [
    {
     "data": {
      "image/png": "[encoded data removed]",
      "text/plain": [
       "<matplotlib.figure.Figure at 0x1a1ecbff90>"
      ]
     },
     "metadata": {},
     "output_type": "display_data"
    }
   ],
   "source": [
    "plt.hist(sorted_word_counts, bins=50, log=True);"
   ]
  },
  {
   "cell_type": "markdown",
   "metadata": {},
   "source": [
    "### Train a Classifier for Sentiment Analysis"
   ]
  },
  {
   "cell_type": "markdown",
   "metadata": {},
   "source": [
    "Using our build_bag_of_words_features function we can build separately the negative and positive features. Basically of each of the 1000 negative and for the 1000 positive review, we can create one dictionary of the words and we associate the label \"neg\" and \"pos\" to it."
   ]
  },
  {
   "cell_type": "code",
   "execution_count": 42,
   "metadata": {},
   "outputs": [],
   "source": [
    "negative_features=[\n",
    "    (build_bag_of_words_features_filtered(movie_reviews.words(fileids=[f])),'neg')\n",
    "    for f in negative_fileids\n",
    "]"
   ]
  },
  {
   "cell_type": "code",
   "execution_count": 43,
   "metadata": {},
   "outputs": [
    {
     "name": "stdout",
     "output_type": "stream",
     "text": [
      "({u'help': 1, u'moments': 1, u'fox': 1, u'fall': 1, u'sexist': 1, u'kayley': 1, u'hercules': 1, u'battle': 1, u'signs': 1, u'timberland': 1, u'follow': 1, u'rest': 1, u'find': 1, u'poorly': 1, u'showmanship': 1, u'interesting': 1, u'headed': 1, u'father': 1, u'enough': 1, u'production': 1, u'pretty': 1, u'might': 1, u'worth': 1, u'instantly': 1, u'kingdom': 1, u'sound': 1, u'good': 1, u'excalibur': 1, u'around': 1, u'colorful': 1, u'watching': 1, u'beat': 1, u'big': 1, u'urkel': 1, u'providing': 1, u'none': 1, u'early': 1, u'quest': 1, u'nearly': 1, u'hands': 1, u'one': 1, u'essential': 1, u'loss': 1, u\"-'\": 1, u'comedy': 1, u'magic': 1, u'like': 1, u'--': 1, u'fully': 1, u'accidentally': 1, u'worried': 1, u'specific': 1, u'nicely': 1, u'arthur': 1, u'race': 1, u'anastasia': 1, u'differentiates': 1, u'knight': 1, u'steal': 1, u'round': 1, u'20th': 1, u'warner': 1, u'learn': 1, u'mess': 1, u'ogre': 1, u'camelot': 1, u'personality': 1, u'footage': 1, u'crown': 1, u'lack': 1, u'dead': 1, u'challenger': 1, u'see': 1, u'ex': 1, u'year': 1, u'empire': 1, u'loses': 1, u'saturday': 1, u'best': 1, u'even': 1, u'90s': 1, u'dweller': 1, u'paired': 1, u'aside': 1, u'garrett': 1, u'elwes': 1, u'revolves': 1, u'bad': 1, u'children': 1, u'thrilled': 1, u'fans': 1, u'score': 1, u'goes': 1, u'probably': 1, u'ruber': 1, u'rickles': 1, u'integrated': 1, u'disney': 1, u'shows': 1, u'arrival': 1, u'run': 1, u'medieval': 1, u'booby': 1, u'missing': 1, u'herc': 1, u'gilsig': 1, u'error': 1, u'given': 1, u'free': 1, u'ever': 1, u'reason': 1, u'others': 1, u'singers': 1, u'television': 1, u'recall': 1, u'throne': 1, u'animated': 1, u'daughter': 1, u'always': 1, u'adventures': 1, u'side': 1, u'thing': 1, u'length': 1, u'pure': 1, u'climb': 1, u'footsteps': 1, u'tgif': 1, u'first': 1, u'blind': 1, u'subpar': 1, u'flawed': 1, u'win': 1, u'stink': 1, u'clout': 1, u'two': 1, u'lively': 1, u'gary': 1, u'bland': 1, u'table': 1, u'adults': 1, u'awfully': 1, u'story': 1, u'long': 1, u'prove': 1, u'angry': 1, u'hunky': 1, u'carey': 1, u'least': 1, u'remotely': 1, u'hydra': 1, u'pinchot': 1, u'much': 1, u'way': 1, u'expected': 1, u'white': 1, u'bored': 1, u'teen': 1, u'sharing': 1, u'complete': 1, u'trapped': 1, u'becomes': 1, u'dion': 1, u'jane': 1, u'pulse': 1, u'last': 1, u'line': 1, u'pocahontas': 1, u'dull': 1, u'belated': 1, u'must': 1, u'case': 1, u'king': 1, u'keeping': 1, u'1997': 1, u'dangerous': 1, u'morning': 1, u'scenes': 1, u'spirited': 1, u'cast': 1, u'idle': 1, u'promising': 1, u'piece': 1, u'fighter': 1, u'jaleel': 1, u'gone': 1, u'compare': 1, u'palate': 1, u'talent': 1, u'balki': 1, u'century': 1, u'shtick': 1, u'bros': 1, u'high': 1, u'strain': 1, u'bronson': 1, u'celine': 1, u'something': 1, u'voiced': 1, u'grievous': 1, u'mediocre': 1, u'element': 1, u'mouse': 1, u'eric': 1, u'film': 1, u'end': 1, u'contest': 1, u'mold': 1, u'seymour': 1, u'able': 1, u'feature': 1, u'member': 1, u'animation': 1, u'actors': 1, u'forest': 1, u'sword': 1, u'jessalyn': 1, u'cloying': 1, u'tie': 1, u'gets': 1, u'though': 1, u'arguing': 1, u'forgettable': 1, u'evil': 1, u'computerized': 1, u'chance': 1, u'characters': 1, u'nothing': 1, u'cartoon': 1, u'steals': 1, u'recent': 1, u'break': 1, u'realized': 1, u'attempt': 1, u'ranks': 1, u'warlord': 1, u'enthusiastic': 1, u'voice': 1, u'magical': 1, u'dragon': 1, u'oldman': 1, u'fact': 1, u'time': 1, u'dream': 1, u'musical': 1, u'came': 1, u'songs': 1}, 'neg')\n"
     ]
    }
   ],
   "source": [
    "print(negative_features[3])"
   ]
  },
  {
   "cell_type": "code",
   "execution_count": 44,
   "metadata": {},
   "outputs": [],
   "source": [
    "positive_features=[\n",
    "    (build_bag_of_words_features_filtered(movie_reviews.words(fileids=[f])),'neg')\n",
    "    for f in positive_fileids\n",
    "]"
   ]
  },
  {
   "cell_type": "code",
   "execution_count": 45,
   "metadata": {},
   "outputs": [
    {
     "name": "stdout",
     "output_type": "stream",
     "text": [
      "({u'atmosphere': 1, u'theme': 1, u'fantastic': 1, u'felt': 1, u'years': 1, u'leads': 1, u'course': 1, u'manages': 1, u'subtle': 1, u'looks': 1, u'controversial': 1, u'battle': 1, u'follow': 1, u'fear': 1, u'skims': 1, u'find': 1, u'meanest': 1, u'principal': 1, u'perfect': 1, u'terrific': 1, u'venice': 1, u'removed': 1, u'group': 1, u'furlong': 1, u'interesting': 1, u'ease': 1, u'blown': 1, u'seems': 1, u'young': 1, u'presents': 1, u'eager': 1, u'add': 1, u'edward': 1, u'black': 1, u'helps': 1, u'prison': 1, u'input': 1, u'derek': 1, u'vandalizing': 1, u'smart': 1, u'good': 1, u'compelling': 1, u'mainstream': 1, u'kills': 1, u'get': 1, u'beat': 1, u'lien': 1, u'material': 1, u'vinyard': 1, u'school': 1, u'scene': 1, u'simplistic': 1, u'nearly': 1, u'altogether': 1, u'telling': 1, u'frightening': 1, u'killed': 1, u'moody': 1, u'regarding': 1, u'name': 1, u'--': 1, u'intelligent': 1, u'resolution': 1, u'brother': 1, u'nicely': 1, u'bad': 1, u'stupid': 1, u'beverly': 1, u'found': 1, u'passionate': 1, u'preach': 1, u'right': 1, u'climactic': 1, u'people': 1, u'intelligence': 1, u'hard': 1, u'play': 1, u'jennifer': 1, u'past': 1, u'see': 1, u'year': 1, u'choices': 1, u'flashback': 1, u'best': 1, u'wonder': 1, u'even': 1, u'living': 1, u'plays': 1, u'footsteps': 1, u'served': 1, u'lots': 1, u'movie': 1, u'since': 1, u'shaved': 1, u'whole': 1, u'looking': 1, u'version': 1, u'featuring': 1, u'without': 1, u'new': 1, u'approach': 1, u'told': 1, u'sympathetic': 1, u'ends': 1, u'full': 1, u'terms': 1, u'racism': 1, u'avery': 1, u'men': 1, u'weak': 1, u'however': 1, u'brooks': 1, u'like': 1, u'credits': 1, u'slow': 1, u'focused': 1, u'starring': 1, u'x': 1, u'path': 1, u'sister': 1, u'last': 1, u'davin': 1, u'getting': 1, u'reasons': 1, u'many': 1, u'violence': 1, u'punk': 1, u'motion': 1, u'thing': 1, u'american': 1, u'studio': 1, u'hatred': 1, u'makes': 1, u'finds': 1, u'comes': 1, u'arbitrarily': 1, u'major': 1, u'lands': 1, u'although': 1, u'point': 1, u'partially': 1, u'primal': 1, u'named': 1, u'imagine': 1, u'powerful': 1, u'brutally': 1, u'articulate': 1, u'one': 1, u'clear': 1, u'purging': 1, u'tony': 1, u'quality': 1, u'charismatic': 1, u'angelo': 1, u'given': 1, u'thoughtless': 1, u'story': 1, u'shouting': 1, u'addition': 1, u'timid': 1, u'two': 1, u'least': 1, u'fight': 1, u'much': 1, u'way': 1, u'greatness': 1, u'films': 1, u'adoption': 1, u'norton': 1, u'final': 1, u'opens': 1, u'happy': 1, u'subplot': 1, u'swastika': 1, u'eyes': 1, u'indulges': 1, u'skinhead': 1, u'becomes': 1, u'face': 1, u'exactly': 1, u'pleased': 1, u'argument': 1, u'released': 1, u'part': 1, u'understand': 1, u'angles': 1, u'line': 1, u'believe': 1, u'white': 1, u'present': 1, u'character': 1, u'supremacy': 1, u'kind': 1, u'main': 1, u'advocating': 1, u'look': 1, u'performers': 1, u'car': 1, u'loud': 1, u'work': 1, u'father': 1, u'movies': 1, u'redemption': 1, u'gutsy': 1, u'three': 1, u'making': 1, u'problem': 1, u'voice': 1, u'minutes': 1, u'beliefs': 1, u'history': 1, u'likable': 1, u'head': 1, u'slap': 1, u'high': 1, u'heard': 1, u'believable': 1, u'seen': 1, u'obnoxious': 1, u'apparently': 1, u'film': 1, u'disliked': 1, u'straightforward': 1, u'perhaps': 1, u'things': 1, u'kaye': 1, u'actor': 1, u'lately': 1, u'note': 1, u'also': 1, u'chest': 1, u'strange': 1, u'role': 1, u'details': 1, u'fed': 1, u'performance': 1, u'subject': 1, u'beach': 1, u'standouts': 1, u'visually': 1, u'product': 1, u'advocate': 1, u'star': 1, u'obsessed': 1, u'may': 1, u'camera': 1, u'time': 1, u'disagree': 1, u'hand': 1, u'director': 1, u'brief': 1, u'tries': 1, u'produce': 1, u'moving': 1, u'preachy': 1, u'phase': 1, u'adds': 1, u'narration': 1, u'extremely': 1, u'man': 1, u'picture': 1, u'danny': 1, u'happening': 1, u'excuse': 1, u'touchy': 1, u'performances': 1, u'disturbingly': 1, u'lot': 1, u'think': 1, u'astonishing': 1, u'depth': 1, u'pretentious': 1, u'artistic': 1, u'mother': 1, u'talented': 1, u'requires': 1, u'make': 1, u'know': 1}, 'neg')\n"
     ]
    }
   ],
   "source": [
    "print(positive_features[6])"
   ]
  },
  {
   "cell_type": "code",
   "execution_count": 46,
   "metadata": {},
   "outputs": [],
   "source": [
    "from nltk.classify import NaiveBayesClassifier"
   ]
  },
  {
   "cell_type": "markdown",
   "metadata": {},
   "source": [
    "One of the simplest supervised machine learning classifier is the Naive Bayes Classifier, it can be trained on 80% of the data to learn what words are generally associated with positive or with negative reviews."
   ]
  },
  {
   "cell_type": "code",
   "execution_count": 47,
   "metadata": {},
   "outputs": [],
   "source": [
    "split=800"
   ]
  },
  {
   "cell_type": "code",
   "execution_count": 48,
   "metadata": {},
   "outputs": [],
   "source": [
    "sentiment_classifier=NaiveBayesClassifier.train(positive_features[:split]+negative_features[:split])"
   ]
  },
  {
   "cell_type": "markdown",
   "metadata": {},
   "source": [
    "We can check after training what is the accuracy on the training set, i.e., the same data used for training, we expect this to be a very high number because the algorithm already \"saw\" those data. Accuracy is the fraction of the data that is classified correctly, we can turn it into precent:"
   ]
  },
  {
   "cell_type": "code",
   "execution_count": 49,
   "metadata": {},
   "outputs": [
    {
     "data": {
      "text/plain": [
       "100.0"
      ]
     },
     "execution_count": 49,
     "metadata": {},
     "output_type": "execute_result"
    }
   ],
   "source": [
    "nltk.classify.util.accuracy(sentiment_classifier, positive_features[:split]+negative_features[:split])*100"
   ]
  },
  {
   "cell_type": "markdown",
   "metadata": {},
   "source": [
    "The accuracy above is almost a check that nothing went very wrong in the training, the real measure of accuracy is on the remaining 20% of the data that was not used in training, the test data:"
   ]
  },
  {
   "cell_type": "code",
   "execution_count": 50,
   "metadata": {},
   "outputs": [
    {
     "data": {
      "text/plain": [
       "100.0"
      ]
     },
     "execution_count": 50,
     "metadata": {},
     "output_type": "execute_result"
    }
   ],
   "source": [
    "nltk.classify.util.accuracy(sentiment_classifier, positive_features[split:]+negative_features[split:])*100"
   ]
  },
  {
   "cell_type": "code",
   "execution_count": 51,
   "metadata": {},
   "outputs": [
    {
     "name": "stdout",
     "output_type": "stream",
     "text": [
      "Most Informative Features\n"
     ]
    }
   ],
   "source": [
    "sentiment_classifier.show_most_informative_features()"
   ]
  },
  {
   "cell_type": "code",
   "execution_count": null,
   "metadata": {},
   "outputs": [],
   "source": []
  }
 ],
 "metadata": {
  "kernelspec": {
   "display_name": "Python 2",
   "language": "python",
   "name": "python2"
  },
  "language_info": {
   "codemirror_mode": {
    "name": "ipython",
    "version": 2
   },
   "file_extension": ".py",
   "mimetype": "text/x-python",
   "name": "python",
   "nbconvert_exporter": "python",
   "pygments_lexer": "ipython2",
   "version": "2.7.14"
  }
 },
 "nbformat": 4,
 "nbformat_minor": 2
}
